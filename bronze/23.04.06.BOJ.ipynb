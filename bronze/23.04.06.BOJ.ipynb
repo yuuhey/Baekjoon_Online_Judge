{
 "cells": [
  {
   "cell_type": "markdown",
   "id": "eff29b4d",
   "metadata": {},
   "source": [
    "### 2525번 오븐 시계"
   ]
  },
  {
   "cell_type": "code",
   "execution_count": 116,
   "id": "60bbb458",
   "metadata": {},
   "outputs": [
    {
     "name": "stdout",
     "output_type": "stream",
     "text": [
      "14 20\n",
      "30\n",
      "14 50\n"
     ]
    }
   ],
   "source": [
    "h, m = input().split(\" \")\n",
    "t = int(input())\n",
    "h = int(h)\n",
    "\n",
    "m = int(m)+t\n",
    "if m>59:\n",
    "    h += m//60\n",
    "    m = m%60\n",
    "    if h>23:\n",
    "        h = h%24\n",
    "        \n",
    "print(h, m)"
   ]
  },
  {
   "cell_type": "markdown",
   "id": "12055955",
   "metadata": {},
   "source": [
    "### 2884번 알람 시계"
   ]
  },
  {
   "cell_type": "code",
   "execution_count": 115,
   "id": "c7480fd5",
   "metadata": {},
   "outputs": [
    {
     "name": "stdout",
     "output_type": "stream",
     "text": [
      "10 40\n",
      "9 55\n"
     ]
    }
   ],
   "source": [
    "h, m = map(int, input().split(\" \"))\n",
    "\n",
    "if m >=45:\n",
    "    print(h, m-45)\n",
    "else:\n",
    "    if h-1<0:\n",
    "        print(h+23, m+15)\n",
    "    else:\n",
    "        print(h-1, m+15)"
   ]
  },
  {
   "cell_type": "markdown",
   "id": "9876e73d",
   "metadata": {},
   "source": [
    "### 2588번 곱셈"
   ]
  },
  {
   "cell_type": "code",
   "execution_count": 114,
   "id": "d2092b46",
   "metadata": {},
   "outputs": [
    {
     "name": "stdout",
     "output_type": "stream",
     "text": [
      "256\n",
      "384\n",
      "1024\n",
      "2048\n",
      "768\n",
      "98304\n"
     ]
    }
   ],
   "source": [
    "a, b = input(), input()\n",
    "for _ in range(2,-1,-1):\n",
    "    print(int(a)*int(b[_]))\n",
    "print(int(a)*int(b))"
   ]
  },
  {
   "cell_type": "markdown",
   "id": "90acdfb0",
   "metadata": {},
   "source": [
    "### 2480번 주사위 세개"
   ]
  },
  {
   "cell_type": "code",
   "execution_count": 87,
   "id": "790e70e7",
   "metadata": {},
   "outputs": [
    {
     "name": "stdout",
     "output_type": "stream",
     "text": [
      "3 6 3\n",
      "1300\n"
     ]
    }
   ],
   "source": [
    "lst = list(map(int, input().split()))\n",
    "\n",
    "if len(set(lst))==1 :\n",
    "    print(10000+lst[0]*1000)\n",
    "elif len(set(lst))==2:\n",
    "    if lst[0]==lst[1]:\n",
    "        print(1000+(lst[0]*100))\n",
    "    else:\n",
    "        print(1000+(lst[2]*100))\n",
    "else:\n",
    "    print(int(max(lst))*100)"
   ]
  },
  {
   "cell_type": "markdown",
   "id": "bfcf36db",
   "metadata": {},
   "source": [
    "* 그냥 a,b,c로 하는게 더 쉬울듯"
   ]
  },
  {
   "cell_type": "markdown",
   "id": "e3fa6f5d",
   "metadata": {},
   "source": [
    "### 2439번 별 찍기 -2"
   ]
  },
  {
   "cell_type": "code",
   "execution_count": 91,
   "id": "8aefd2b1",
   "metadata": {},
   "outputs": [
    {
     "name": "stdout",
     "output_type": "stream",
     "text": [
      "5\n",
      "    *\n",
      "   **\n",
      "  ***\n",
      " ****\n",
      "*****\n"
     ]
    }
   ],
   "source": [
    "n = int(input())\n",
    "for i in range(0, n):\n",
    "    print(\" \"*(n-i-1)+\"*\"*(i+1))"
   ]
  },
  {
   "cell_type": "markdown",
   "id": "e6da99ae",
   "metadata": {},
   "source": [
    "* range에서 0부터 시작 안하고 1부터 해서 시작하면 -1안해도 됨"
   ]
  },
  {
   "cell_type": "markdown",
   "id": "a475a9f0",
   "metadata": {},
   "source": [
    "### 10818번 최소, 최대"
   ]
  },
  {
   "cell_type": "code",
   "execution_count": 113,
   "id": "399a487f",
   "metadata": {},
   "outputs": [
    {
     "name": "stdout",
     "output_type": "stream",
     "text": [
      "5\n",
      "20 10 35 30 7\n",
      "7 35\n"
     ]
    }
   ],
   "source": [
    "n = input()\n",
    "lst = [*(map(int, input().split()))]\n",
    "print(min(lst), max(lst))"
   ]
  },
  {
   "cell_type": "markdown",
   "id": "b87220c3",
   "metadata": {},
   "source": [
    "### 2562번 최댓값"
   ]
  },
  {
   "cell_type": "code",
   "execution_count": 120,
   "id": "7df83fd4",
   "metadata": {},
   "outputs": [
    {
     "name": "stdout",
     "output_type": "stream",
     "text": [
      "3\n",
      "29\n",
      "38\n",
      "12\n",
      "57\n",
      "74\n",
      "40\n",
      "85\n",
      "61\n",
      "85\n",
      "8\n"
     ]
    }
   ],
   "source": [
    "m,k = 0,0\n",
    "for i in range(1,10):\n",
    "    temp = int(input())\n",
    "    if temp > m:\n",
    "        k = i\n",
    "        m = temp\n",
    "        \n",
    "print(m)\n",
    "print(k)"
   ]
  },
  {
   "cell_type": "code",
   "execution_count": null,
   "id": "a3dac1a9",
   "metadata": {},
   "outputs": [],
   "source": [
    "#숏코딩\n",
    "x = [int(input()) for _ in range(9)]\n",
    "print(max(x), x.index(max(x))+1)"
   ]
  },
  {
   "cell_type": "markdown",
   "id": "af028ba2",
   "metadata": {},
   "source": [
    "### 15552번 빠른 A+B\n",
    "\n",
    "for문 문제를 풀기 전에 주의해야 할 점이 있다. 입출력 방식이 느리면 여러 줄을 입력받거나 출력할 때 시간초과가 날 수 있다는 점이다.\n",
    "\n",
    "Python을 사용하고 있다면, input 대신 sys.stdin.readline을 사용할 수 있다. 단, 이때는 맨 끝의 개행문자까지 같이 입력받기 때문에 문자열을 저장하고 싶을 경우 .rstrip()을 추가로 해 주는 것이 좋다."
   ]
  },
  {
   "cell_type": "code",
   "execution_count": 135,
   "id": "ada026da",
   "metadata": {},
   "outputs": [
    {
     "name": "stdout",
     "output_type": "stream",
     "text": [
      "5\n",
      "1 1\n",
      "2\n",
      "12 34\n",
      "46\n",
      "5 500\n",
      "505\n",
      "40 60\n",
      "100\n",
      "1000 1000\n",
      "2000\n"
     ]
    }
   ],
   "source": [
    "t = int(input())\n",
    "for _ in range(t):\n",
    "    print(sum([*map(int, input().split())]))"
   ]
  },
  {
   "cell_type": "code",
   "execution_count": 152,
   "id": "355fd932",
   "metadata": {},
   "outputs": [
    {
     "ename": "ValueError",
     "evalue": "invalid literal for int() with base 10: ''",
     "output_type": "error",
     "traceback": [
      "\u001b[0;31m---------------------------------------------------------------------------\u001b[0m",
      "\u001b[0;31mValueError\u001b[0m                                Traceback (most recent call last)",
      "\u001b[0;32m/var/folders/zl/mjh68t9j0g3_bhrwv1m7j_p40000gn/T/ipykernel_92410/4157211889.py\u001b[0m in \u001b[0;36m<module>\u001b[0;34m\u001b[0m\n\u001b[1;32m      1\u001b[0m \u001b[0;32mimport\u001b[0m \u001b[0msys\u001b[0m\u001b[0;34m\u001b[0m\u001b[0;34m\u001b[0m\u001b[0m\n\u001b[0;32m----> 2\u001b[0;31m \u001b[0;32mfor\u001b[0m \u001b[0m_\u001b[0m \u001b[0;32min\u001b[0m \u001b[0mrange\u001b[0m\u001b[0;34m(\u001b[0m\u001b[0mint\u001b[0m\u001b[0;34m(\u001b[0m\u001b[0msys\u001b[0m\u001b[0;34m.\u001b[0m\u001b[0mstdin\u001b[0m\u001b[0;34m.\u001b[0m\u001b[0mreadline\u001b[0m\u001b[0;34m(\u001b[0m\u001b[0;34m)\u001b[0m\u001b[0;34m)\u001b[0m\u001b[0;34m)\u001b[0m\u001b[0;34m:\u001b[0m\u001b[0;34m\u001b[0m\u001b[0;34m\u001b[0m\u001b[0m\n\u001b[0m\u001b[1;32m      3\u001b[0m     \u001b[0ma\u001b[0m\u001b[0;34m,\u001b[0m \u001b[0mb\u001b[0m \u001b[0;34m=\u001b[0m \u001b[0mmap\u001b[0m\u001b[0;34m(\u001b[0m\u001b[0mint\u001b[0m\u001b[0;34m,\u001b[0m \u001b[0msys\u001b[0m\u001b[0;34m.\u001b[0m\u001b[0mstdin\u001b[0m\u001b[0;34m.\u001b[0m\u001b[0mreadline\u001b[0m\u001b[0;34m(\u001b[0m\u001b[0;34m)\u001b[0m\u001b[0;34m.\u001b[0m\u001b[0msplit\u001b[0m\u001b[0;34m(\u001b[0m\u001b[0;34m)\u001b[0m\u001b[0;34m)\u001b[0m\u001b[0;34m\u001b[0m\u001b[0;34m\u001b[0m\u001b[0m\n\u001b[1;32m      4\u001b[0m     \u001b[0mprint\u001b[0m\u001b[0;34m(\u001b[0m\u001b[0ma\u001b[0m\u001b[0;34m+\u001b[0m\u001b[0mb\u001b[0m\u001b[0;34m)\u001b[0m\u001b[0;34m\u001b[0m\u001b[0;34m\u001b[0m\u001b[0m\n",
      "\u001b[0;31mValueError\u001b[0m: invalid literal for int() with base 10: ''"
     ]
    }
   ],
   "source": [
    "import sys\n",
    "for _ in range(int(sys.stdin.readline())):\n",
    "    a, b = map(int, sys.stdin.readline().split())\n",
    "    print(a+b)"
   ]
  },
  {
   "cell_type": "markdown",
   "id": "3611ecb4",
   "metadata": {},
   "source": [
    "### 1152번 단어의 개수"
   ]
  },
  {
   "cell_type": "code",
   "execution_count": 154,
   "id": "dfe77a22",
   "metadata": {},
   "outputs": [
    {
     "name": "stdout",
     "output_type": "stream",
     "text": [
      "the curious case of benjamin button\n",
      "6\n"
     ]
    }
   ],
   "source": [
    "lst = [*input().split()]\n",
    "print(len(lst))"
   ]
  },
  {
   "cell_type": "markdown",
   "id": "1a7747a1",
   "metadata": {},
   "source": [
    "### 10810번 공 넣기"
   ]
  },
  {
   "cell_type": "code",
   "execution_count": 176,
   "id": "0290653d",
   "metadata": {},
   "outputs": [
    {
     "name": "stdout",
     "output_type": "stream",
     "text": [
      "5 4\n",
      "1 2 3\n",
      "3 4 4\n",
      "1 4 1\n",
      "2 2 2\n",
      "1 2 1 1 0\n"
     ]
    }
   ],
   "source": [
    "n, m = map(int, input().split())\n",
    "lst = [0 for i in range(n)]\n",
    "for _ in range(m):\n",
    "    i, j, k = map(int, input().split())\n",
    "    lst[i-1:j] = [k for i in range(j+1-i)]\n",
    "print(*lst)"
   ]
  }
 ],
 "metadata": {
  "kernelspec": {
   "display_name": "act1",
   "language": "python",
   "name": "act1"
  },
  "language_info": {
   "codemirror_mode": {
    "name": "ipython",
    "version": 3
   },
   "file_extension": ".py",
   "mimetype": "text/x-python",
   "name": "python",
   "nbconvert_exporter": "python",
   "pygments_lexer": "ipython3",
   "version": "3.7.16"
  }
 },
 "nbformat": 4,
 "nbformat_minor": 5
}
